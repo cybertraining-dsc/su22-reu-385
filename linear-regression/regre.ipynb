{
 "cells": [
  {
   "cell_type": "markdown",
   "source": [
    "## Regression in python\n",
    "\n",
    "linear regression is classified as supervised data. It is a statistical\n",
    "model that is used to forecast the relationship between independent and dependent variables.\n",
    "It is divided into three categories:\n",
    "\n",
    "* Simple linear regression\n",
    "* Multiple linear regression\n",
    "* Polynomial linear regression\n",
    "\n",
    "### Simple Linear Regression\n",
    "\n",
    "Simple linear regression deals with only the dependent and independent variables. For example, linear\n",
    "regression can be used to predict the amount of food to be cultivated using only two variables:\n",
    "crop yield and rainfall, where rainfall is the independent variable and crop yield is the dependent\n",
    "variable. the simple linear regression basically use the formular `y = mx +c`\n",
    "y is the dependent variable, m is the slop, x is the in dependent variable , and c is the intercept\n",
    "\n",
    "##### Python example"
   ],
   "metadata": {
    "collapsed": false,
    "pycharm": {
     "name": "#%% md\n"
    }
   }
  },
  {
   "cell_type": "code",
   "execution_count": null,
   "outputs": [],
   "source": [
    "import seaborn as sns\n",
    "import matplotlib.pyplot as plt\n",
    "\n",
    "rainfall = [1, 3, 5, 7, 9, 11]\n",
    "crop_yield = [5, 12, 14, 50, 67, 20]\n",
    "soil_fertility = [6, 7, 8, 9, 10, 6]\n",
    "# getting the regression line\n",
    "U = 0\n",
    "Z = 0\n",
    "L = 0\n",
    "product = []\n",
    "Y_pred = []\n",
    "n = len(rainfall)\n",
    "for cum_rain in rainfall:\n",
    "    U = cum_rain * cum_rain\n",
    "    U += U\n",
    "    cum_rain += cum_rain\n",
    "\n",
    "for cum_crop in crop_yield:\n",
    "    Z = cum_crop * cum_crop\n",
    "    Z += Z\n",
    "    cum_crop += cum_crop\n",
    "\n",
    "for num1, num2 in zip(rainfall, crop_yield):\n",
    "    product.append(num1 * num2)\n",
    "\n",
    "for pro in product:\n",
    "    pro += pro\n",
    "\n",
    "m = ((n * pro) - (cum_crop * cum_rain)) / ((n * U) - (cum_rain * cum_rain))\n",
    "c = ((cum_crop * U) - (cum_rain * pro))/ ((n * U) - (cum_rain * cum_rain))\n",
    "v = 0\n",
    "\n",
    "for fall in rainfall:\n",
    "    Y_pred.append((m * fall) + c)\n",
    "\n",
    "\n",
    "#Rainfall as related to crop yield\n",
    "sns.relplot(rainfall, crop_yield)\n",
    "sns.regplot(rainfall, Y_pred)\n",
    "plt.xlabel(\"Rain Fall\")\n",
    "plt.ylabel(\"Crop yield \")\n",
    "plt.savefig(\"model.svg\")\n",
    "plt.show()"
   ],
   "metadata": {
    "collapsed": false,
    "pycharm": {
     "name": "#%%\n"
    }
   }
  },
  {
   "cell_type": "markdown",
   "source": [
    "\n",
    "### Multiple Linear Regression\n",
    "\n",
    "The multiple linear regression, unlike the simple linear regression, requires more than two factors in the\n",
    "example given above. which requires only the crop yield and the amount of rainfall, the multiple linear regressions\n",
    "require more than that, such as pest infestation, animals perking around the crops, and soil fertility where all these factors\n",
    "are independent variable to the crop yield. The multiple linear regression use formular `y = M1X1 + M2X2 +M3X3 ..... + C`\n",
    "where y is the dependent variable, M is the slop, X is the in dependent variable , and C is the intercept.\n",
    "\n",
    "#### python example\n"
   ],
   "metadata": {
    "collapsed": false,
    "pycharm": {
     "name": "#%% md\n"
    }
   }
  },
  {
   "cell_type": "markdown",
   "source": [],
   "metadata": {
    "collapsed": false,
    "pycharm": {
     "name": "#%% md\n"
    }
   }
  },
  {
   "cell_type": "code",
   "execution_count": null,
   "outputs": [],
   "source": [
    "import seaborn as sns\n",
    "import matplotlib.pyplot as plt\n",
    "\n",
    "rainfall = [1, 3, 5, 7, 9, 11]\n",
    "crop_yield = [5, 12, 14, 50, 67, 20]\n",
    "soil_fertility = [6, 7, 8, 9, 10, 6]\n",
    "\n",
    "# getting the regression line\n",
    "U = 0\n",
    "Z = 0\n",
    "L = 0\n",
    "product = []\n",
    "Y_pred = []\n",
    "product_2 = []\n",
    "Y2_pred = []\n",
    "n = len(rainfall)\n",
    "for cum_rain in rainfall:\n",
    "    U = cum_rain * cum_rain\n",
    "    U += U\n",
    "    cum_rain += cum_rain\n",
    "\n",
    "for soil in soil_fertility:\n",
    "    Z = soil * soil\n",
    "    Z += Z\n",
    "    soil += soil\n",
    "\n",
    "for cum_crop in crop_yield:\n",
    "    Z = cum_crop * cum_crop\n",
    "    Z += Z\n",
    "    cum_crop += cum_crop\n",
    "\n",
    "for num1, num2 in zip(rainfall, crop_yield):\n",
    "    product.append(num1 * num2)\n",
    "\n",
    "for num1, num2 in zip(rainfall, soil_fertility):\n",
    "    product_2.append(num1 * num2)\n",
    "\n",
    "for pro in product:\n",
    "    pro += pro\n",
    "for pro2 in product_2:\n",
    "    pro2 += pro2\n",
    "\n",
    "m = ((n * pro) - (cum_crop * cum_rain)) / ((n * U) - (cum_rain * cum_rain))\n",
    "c = ((cum_crop * U) - (cum_rain * pro))/ ((n * U) - (cum_rain * cum_rain))\n",
    "\n",
    "m2 = ((n * pro2) - (soil * cum_rain)) / ((n * U) - (cum_rain * cum_rain))\n",
    "c2 = ((soil * U) - (cum_rain * pro2)) / ((n * U) - (cum_rain * cum_rain))\n",
    "\n",
    "v = 0\n",
    "for fall in rainfall:\n",
    "    Y_pred.append((m * fall) + c)\n",
    "    Y2_pred.append(m2 * fall + c2)\n",
    "\n",
    "\n",
    "\n",
    "#Rainfall as related to crop yield\n",
    "sns.relplot(rainfall, crop_yield)\n",
    "sns.regplot(rainfall, Y_pred)\n",
    "plt.xlabel(\"Rain Fall\")\n",
    "plt.ylabel(\"Crop yield \")\n",
    "plt.savefig(\"model2.svg\")\n",
    "plt.show()\n",
    "\n",
    "# soil fertility\n",
    "sns.relplot(rainfall, soil_fertility)\n",
    "sns.regplot(rainfall, Y2_pred)\n",
    "plt.xlabel(\"Rain Fall\")\n",
    "plt.ylabel(\"soil fertility \")\n",
    "plt.savefig(\"model3.svg\")\n",
    "plt.show()"
   ],
   "metadata": {
    "collapsed": false,
    "pycharm": {
     "name": "#%%\n"
    }
   }
  },
  {
   "cell_type": "markdown",
   "source": [
    "\n",
    "### Polynomial Linear Regression\n",
    "\n",
    "Unlike simple and multiple linear regression, which use straight lines to show the relationship between the dependent\n",
    "and independent variables, polynomial linear regression uses a curved line to show the relationship between the two\n",
    "variables.\n",
    "\n",
    "#### python example"
   ],
   "metadata": {
    "collapsed": false,
    "pycharm": {
     "name": "#%% md\n"
    }
   }
  },
  {
   "cell_type": "code",
   "execution_count": null,
   "outputs": [],
   "source": [
    "import numpy\n",
    "import seaborn as sns\n",
    "import matplotlib.pyplot as plt\n",
    "rainfall = [1, 3, 5, 7, 9, 11]\n",
    "crop_yield = [5, 12, 14, 50, 67, 20]\n",
    "\n",
    "# Rainfall as related to crop yield\n",
    "sns.relplot(x=rainfall, y=crop_yield)\n",
    "mymodel = numpy.poly1d(numpy.polyfit(rainfall, crop_yield, 2))\n",
    "myline = numpy.linspace(1, 20, 30)\n",
    "plt.plot(myline, mymodel(myline))\n",
    "plt.xlabel(\"Rain Fall\")\n",
    "plt.ylabel(\"Crop yield \")\n",
    "plt.savefig(\"model4.svg\")\n",
    "plt.show()"
   ],
   "metadata": {
    "collapsed": false,
    "pycharm": {
     "name": "#%%\n"
    }
   }
  },
  {
   "cell_type": "markdown",
   "source": [
    "Reference : https://www.w3schools.com/python/python_ml_linear_regression.asp\n",
    "            https://www.youtube.com/watch?v=NUXdtN1W1FE"
   ],
   "metadata": {
    "collapsed": false,
    "pycharm": {
     "name": "#%% md\n"
    }
   }
  }
 ],
 "metadata": {
  "kernelspec": {
   "display_name": "Python 3",
   "language": "python",
   "name": "python3"
  },
  "language_info": {
   "codemirror_mode": {
    "name": "ipython",
    "version": 2
   },
   "file_extension": ".py",
   "mimetype": "text/x-python",
   "name": "python",
   "nbconvert_exporter": "python",
   "pygments_lexer": "ipython2",
   "version": "2.7.6"
  }
 },
 "nbformat": 4,
 "nbformat_minor": 0
}